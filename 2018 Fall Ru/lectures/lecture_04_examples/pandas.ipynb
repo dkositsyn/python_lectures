{
 "cells": [
  {
   "cell_type": "markdown",
   "metadata": {
    "slideshow": {
     "slide_type": "slide"
    }
   },
   "source": [
    "## Pandas"
   ]
  },
  {
   "cell_type": "code",
   "execution_count": 1,
   "metadata": {},
   "outputs": [],
   "source": [
    "import pandas as pd"
   ]
  },
  {
   "cell_type": "markdown",
   "metadata": {
    "slideshow": {
     "slide_type": "slide"
    }
   },
   "source": [
    "### Series"
   ]
  },
  {
   "cell_type": "code",
   "execution_count": 2,
   "metadata": {
    "slideshow": {
     "slide_type": "fragment"
    }
   },
   "outputs": [
    {
     "data": {
      "text/plain": [
       "0    11\n",
       "1    28\n",
       "2    72\n",
       "3     3\n",
       "4     5\n",
       "5     8\n",
       "dtype: int64"
      ]
     },
     "execution_count": 2,
     "metadata": {},
     "output_type": "execute_result"
    }
   ],
   "source": [
    "S = pd.Series([11, 28, 72, 3, 5, 8])\n",
    "S"
   ]
  },
  {
   "cell_type": "code",
   "execution_count": 3,
   "metadata": {
    "slideshow": {
     "slide_type": "subslide"
    }
   },
   "outputs": [
    {
     "data": {
      "text/plain": [
       "oranges        17\n",
       "apples         11\n",
       "peaches        46\n",
       "grapefruits    12\n",
       "dtype: int64"
      ]
     },
     "execution_count": 3,
     "metadata": {},
     "output_type": "execute_result"
    }
   ],
   "source": [
    "fruits = ['oranges', 'apples', 'peaches', 'grapefruits']\n",
    "quantities = [17, 11, 46, 12]\n",
    "S = pd.Series(quantities, index=fruits)\n",
    "S"
   ]
  },
  {
   "cell_type": "code",
   "execution_count": 4,
   "metadata": {
    "slideshow": {
     "slide_type": "subslide"
    }
   },
   "outputs": [
    {
     "name": "stdout",
     "output_type": "stream",
     "text": [
      "17\n",
      "\n",
      "oranges    17\n",
      "peaches    46\n",
      "dtype: int64\n",
      "\n",
      "apples         22.0\n",
      "blueberries     NaN\n",
      "grapefruits     NaN\n",
      "oranges        19.0\n",
      "peaches        58.0\n",
      "dtype: float64\n"
     ]
    }
   ],
   "source": [
    "fruits = ['oranges', 'apples', 'peaches', 'grapefruits']\n",
    "S = pd.Series([17, 11, 46, 12], index=fruits)\n",
    "\n",
    "print(S['oranges'], end='\\n\\n')\n",
    "print(S[['oranges', 'peaches']], end='\\n\\n')\n",
    "\n",
    "fruits2 = ['blueberries', 'oranges', 'apples', 'peaches']\n",
    "S2 = pd.Series([7, 2, 11, 12], index=fruits2)\n",
    "print(S + S2)"
   ]
  },
  {
   "cell_type": "code",
   "execution_count": 5,
   "metadata": {
    "slideshow": {
     "slide_type": "subslide"
    }
   },
   "outputs": [
    {
     "name": "stdout",
     "output_type": "stream",
     "text": [
      "0     40\n",
      "1     20\n",
      "2    124\n",
      "3     88\n",
      "4    180\n",
      "dtype: int64\n",
      "\n",
      "0    32\n",
      "1    27\n",
      "2    28\n",
      "3    44\n",
      "4    42\n",
      "dtype: int64\n",
      "\n",
      "4    42\n",
      "dtype: int64\n",
      "\n"
     ]
    }
   ],
   "source": [
    "S = pd.Series([7, 2, 28, 19, 42])\n",
    "print((S + 3) * 4, end='\\n\\n')\n",
    "\n",
    "print(S.apply(lambda x: x if x > 25 else x + 25), end='\\n\\n')\n",
    "\n",
    "print(S[S > 40], end='\\n\\n')"
   ]
  },
  {
   "cell_type": "markdown",
   "metadata": {
    "slideshow": {
     "slide_type": "slide"
    }
   },
   "source": [
    "### Проверка значений на missing"
   ]
  },
  {
   "cell_type": "code",
   "execution_count": 6,
   "metadata": {
    "slideshow": {
     "slide_type": "fragment"
    }
   },
   "outputs": [
    {
     "name": "stdout",
     "output_type": "stream",
     "text": [
      "London       8615246.0\n",
      "Paris        2273305.0\n",
      "Zurich             NaN\n",
      "Berlin       3562166.0\n",
      "Stuttgart          NaN\n",
      "Hamburg      1760433.0\n",
      "dtype: float64\n",
      "\n",
      "London       False\n",
      "Paris        False\n",
      "Zurich        True\n",
      "Berlin       False\n",
      "Stuttgart     True\n",
      "Hamburg      False\n",
      "dtype: bool\n",
      "\n",
      "London     8615246.0\n",
      "Paris      2273305.0\n",
      "Berlin     3562166.0\n",
      "Hamburg    1760433.0\n",
      "dtype: float64\n",
      "\n",
      "London       8615246.0\n",
      "Paris        2273305.0\n",
      "Zurich             0.0\n",
      "Berlin       3562166.0\n",
      "Stuttgart          0.0\n",
      "Hamburg      1760433.0\n",
      "dtype: float64\n",
      "\n"
     ]
    }
   ],
   "source": [
    "cities = {\"London\":   8615246, \n",
    "          \"Berlin\":   3562166, \n",
    "          \"Madrid\":   3165235, \n",
    "          \"Rome\":     2874038, \n",
    "          \"Paris\":    2273305, \n",
    "          \"Vienna\":   1805681, \n",
    "          \"Bucharest\":1803425, \n",
    "          \"Hamburg\":  1760433,\n",
    "          \"Budapest\": 1754000,\n",
    "          \"Warsaw\":   1740119,\n",
    "          \"Barcelona\":1602386,\n",
    "          \"Munich\":   1493900,\n",
    "          \"Milan\":    1350680}\n",
    "\n",
    "selected_cities = [\"London\", \"Paris\", \"Zurich\", \"Berlin\", \"Stuttgart\", \"Hamburg\"]\n",
    "selected_city_series = pd.Series(cities, index=selected_cities)\n",
    "print(selected_city_series, end='\\n\\n')\n",
    "\n",
    "print(selected_city_series.isnull(), end='\\n\\n')\n",
    "\n",
    "print(selected_city_series.dropna(), end='\\n\\n')\n",
    "\n",
    "print(selected_city_series.fillna(0), end='\\n\\n')"
   ]
  },
  {
   "cell_type": "markdown",
   "metadata": {
    "slideshow": {
     "slide_type": "slide"
    }
   },
   "source": [
    "### DataFrame"
   ]
  },
  {
   "cell_type": "code",
   "execution_count": 7,
   "metadata": {
    "slideshow": {
     "slide_type": "slide"
    }
   },
   "outputs": [
    {
     "data": {
      "text/html": [
       "<div>\n",
       "<style scoped>\n",
       "    .dataframe tbody tr th:only-of-type {\n",
       "        vertical-align: middle;\n",
       "    }\n",
       "\n",
       "    .dataframe tbody tr th {\n",
       "        vertical-align: top;\n",
       "    }\n",
       "\n",
       "    .dataframe thead th {\n",
       "        text-align: right;\n",
       "    }\n",
       "</style>\n",
       "<table border=\"1\" class=\"dataframe\">\n",
       "  <thead>\n",
       "    <tr style=\"text-align: right;\">\n",
       "      <th></th>\n",
       "      <th>country</th>\n",
       "      <th>name</th>\n",
       "      <th>population</th>\n",
       "    </tr>\n",
       "  </thead>\n",
       "  <tbody>\n",
       "    <tr>\n",
       "      <th>0</th>\n",
       "      <td>England</td>\n",
       "      <td>London</td>\n",
       "      <td>8615246</td>\n",
       "    </tr>\n",
       "    <tr>\n",
       "      <th>1</th>\n",
       "      <td>Germany</td>\n",
       "      <td>Berlin</td>\n",
       "      <td>3562166</td>\n",
       "    </tr>\n",
       "    <tr>\n",
       "      <th>2</th>\n",
       "      <td>Spain</td>\n",
       "      <td>Madrid</td>\n",
       "      <td>3165235</td>\n",
       "    </tr>\n",
       "    <tr>\n",
       "      <th>3</th>\n",
       "      <td>Italy</td>\n",
       "      <td>Rome</td>\n",
       "      <td>2874038</td>\n",
       "    </tr>\n",
       "    <tr>\n",
       "      <th>4</th>\n",
       "      <td>France</td>\n",
       "      <td>Paris</td>\n",
       "      <td>2273305</td>\n",
       "    </tr>\n",
       "    <tr>\n",
       "      <th>5</th>\n",
       "      <td>Austria</td>\n",
       "      <td>Vienna</td>\n",
       "      <td>1805681</td>\n",
       "    </tr>\n",
       "    <tr>\n",
       "      <th>6</th>\n",
       "      <td>Romania</td>\n",
       "      <td>Bucharest</td>\n",
       "      <td>1803425</td>\n",
       "    </tr>\n",
       "    <tr>\n",
       "      <th>7</th>\n",
       "      <td>Germany</td>\n",
       "      <td>Hamburg</td>\n",
       "      <td>1760433</td>\n",
       "    </tr>\n",
       "    <tr>\n",
       "      <th>8</th>\n",
       "      <td>Hungary</td>\n",
       "      <td>Budapest</td>\n",
       "      <td>1754000</td>\n",
       "    </tr>\n",
       "    <tr>\n",
       "      <th>9</th>\n",
       "      <td>Poland</td>\n",
       "      <td>Warsaw</td>\n",
       "      <td>1740119</td>\n",
       "    </tr>\n",
       "    <tr>\n",
       "      <th>10</th>\n",
       "      <td>Spain</td>\n",
       "      <td>Barcelona</td>\n",
       "      <td>1602386</td>\n",
       "    </tr>\n",
       "    <tr>\n",
       "      <th>11</th>\n",
       "      <td>Germany</td>\n",
       "      <td>Munich</td>\n",
       "      <td>1493900</td>\n",
       "    </tr>\n",
       "    <tr>\n",
       "      <th>12</th>\n",
       "      <td>Italy</td>\n",
       "      <td>Milan</td>\n",
       "      <td>1350680</td>\n",
       "    </tr>\n",
       "  </tbody>\n",
       "</table>\n",
       "</div>"
      ],
      "text/plain": [
       "    country       name  population\n",
       "0   England     London     8615246\n",
       "1   Germany     Berlin     3562166\n",
       "2     Spain     Madrid     3165235\n",
       "3     Italy       Rome     2874038\n",
       "4    France      Paris     2273305\n",
       "5   Austria     Vienna     1805681\n",
       "6   Romania  Bucharest     1803425\n",
       "7   Germany    Hamburg     1760433\n",
       "8   Hungary   Budapest     1754000\n",
       "9    Poland     Warsaw     1740119\n",
       "10    Spain  Barcelona     1602386\n",
       "11  Germany     Munich     1493900\n",
       "12    Italy      Milan     1350680"
      ]
     },
     "execution_count": 7,
     "metadata": {},
     "output_type": "execute_result"
    }
   ],
   "source": [
    "cities = {\"name\": [\"London\", \"Berlin\", \"Madrid\", \"Rome\", \n",
    "                   \"Paris\", \"Vienna\", \"Bucharest\", \"Hamburg\", \n",
    "                   \"Budapest\", \"Warsaw\", \"Barcelona\", \n",
    "                   \"Munich\", \"Milan\"],\n",
    "          \"population\": [8615246, 3562166, 3165235, 2874038,\n",
    "                         2273305, 1805681, 1803425, 1760433,\n",
    "                         1754000, 1740119, 1602386, 1493900,\n",
    "                         1350680],\n",
    "          \"country\": [\"England\", \"Germany\", \"Spain\", \"Italy\",\n",
    "                      \"France\", \"Austria\", \"Romania\", \n",
    "                      \"Germany\", \"Hungary\", \"Poland\", \"Spain\",\n",
    "                      \"Germany\", \"Italy\"]}\n",
    "city_frame = pd.DataFrame(cities)\n",
    "city_frame"
   ]
  },
  {
   "cell_type": "code",
   "execution_count": 8,
   "metadata": {
    "slideshow": {
     "slide_type": "subslide"
    }
   },
   "outputs": [
    {
     "data": {
      "text/html": [
       "<div>\n",
       "<style scoped>\n",
       "    .dataframe tbody tr th:only-of-type {\n",
       "        vertical-align: middle;\n",
       "    }\n",
       "\n",
       "    .dataframe tbody tr th {\n",
       "        vertical-align: top;\n",
       "    }\n",
       "\n",
       "    .dataframe thead th {\n",
       "        text-align: right;\n",
       "    }\n",
       "</style>\n",
       "<table border=\"1\" class=\"dataframe\">\n",
       "  <thead>\n",
       "    <tr style=\"text-align: right;\">\n",
       "      <th></th>\n",
       "      <th>country</th>\n",
       "      <th>name</th>\n",
       "      <th>population</th>\n",
       "    </tr>\n",
       "  </thead>\n",
       "  <tbody>\n",
       "    <tr>\n",
       "      <th>first</th>\n",
       "      <td>England</td>\n",
       "      <td>London</td>\n",
       "      <td>8615246</td>\n",
       "    </tr>\n",
       "    <tr>\n",
       "      <th>second</th>\n",
       "      <td>Germany</td>\n",
       "      <td>Berlin</td>\n",
       "      <td>3562166</td>\n",
       "    </tr>\n",
       "    <tr>\n",
       "      <th>third</th>\n",
       "      <td>Spain</td>\n",
       "      <td>Madrid</td>\n",
       "      <td>3165235</td>\n",
       "    </tr>\n",
       "    <tr>\n",
       "      <th>fourth</th>\n",
       "      <td>Italy</td>\n",
       "      <td>Rome</td>\n",
       "      <td>2874038</td>\n",
       "    </tr>\n",
       "    <tr>\n",
       "      <th>fifth</th>\n",
       "      <td>France</td>\n",
       "      <td>Paris</td>\n",
       "      <td>2273305</td>\n",
       "    </tr>\n",
       "    <tr>\n",
       "      <th>sixth</th>\n",
       "      <td>Austria</td>\n",
       "      <td>Vienna</td>\n",
       "      <td>1805681</td>\n",
       "    </tr>\n",
       "    <tr>\n",
       "      <th>seventh</th>\n",
       "      <td>Romania</td>\n",
       "      <td>Bucharest</td>\n",
       "      <td>1803425</td>\n",
       "    </tr>\n",
       "    <tr>\n",
       "      <th>eigth</th>\n",
       "      <td>Germany</td>\n",
       "      <td>Hamburg</td>\n",
       "      <td>1760433</td>\n",
       "    </tr>\n",
       "    <tr>\n",
       "      <th>ninth</th>\n",
       "      <td>Hungary</td>\n",
       "      <td>Budapest</td>\n",
       "      <td>1754000</td>\n",
       "    </tr>\n",
       "    <tr>\n",
       "      <th>tenth</th>\n",
       "      <td>Poland</td>\n",
       "      <td>Warsaw</td>\n",
       "      <td>1740119</td>\n",
       "    </tr>\n",
       "    <tr>\n",
       "      <th>eleventh</th>\n",
       "      <td>Spain</td>\n",
       "      <td>Barcelona</td>\n",
       "      <td>1602386</td>\n",
       "    </tr>\n",
       "    <tr>\n",
       "      <th>twelvth</th>\n",
       "      <td>Germany</td>\n",
       "      <td>Munich</td>\n",
       "      <td>1493900</td>\n",
       "    </tr>\n",
       "    <tr>\n",
       "      <th>thirteenth</th>\n",
       "      <td>Italy</td>\n",
       "      <td>Milan</td>\n",
       "      <td>1350680</td>\n",
       "    </tr>\n",
       "  </tbody>\n",
       "</table>\n",
       "</div>"
      ],
      "text/plain": [
       "            country       name  population\n",
       "first       England     London     8615246\n",
       "second      Germany     Berlin     3562166\n",
       "third         Spain     Madrid     3165235\n",
       "fourth        Italy       Rome     2874038\n",
       "fifth        France      Paris     2273305\n",
       "sixth       Austria     Vienna     1805681\n",
       "seventh     Romania  Bucharest     1803425\n",
       "eigth       Germany    Hamburg     1760433\n",
       "ninth       Hungary   Budapest     1754000\n",
       "tenth        Poland     Warsaw     1740119\n",
       "eleventh      Spain  Barcelona     1602386\n",
       "twelvth     Germany     Munich     1493900\n",
       "thirteenth    Italy      Milan     1350680"
      ]
     },
     "execution_count": 8,
     "metadata": {},
     "output_type": "execute_result"
    }
   ],
   "source": [
    "ordinals = [\"first\", \"second\", \"third\", \"fourth\",\n",
    "            \"fifth\", \"sixth\", \"seventh\", \"eigth\",\n",
    "            \"ninth\", \"tenth\", \"eleventh\", \"twelvth\",\n",
    "            \"thirteenth\"]\n",
    "city_frame = pd.DataFrame(cities, index=ordinals)\n",
    "city_frame"
   ]
  },
  {
   "cell_type": "code",
   "execution_count": 9,
   "metadata": {
    "slideshow": {
     "slide_type": "subslide"
    }
   },
   "outputs": [
    {
     "data": {
      "text/html": [
       "<div>\n",
       "<style scoped>\n",
       "    .dataframe tbody tr th:only-of-type {\n",
       "        vertical-align: middle;\n",
       "    }\n",
       "\n",
       "    .dataframe tbody tr th {\n",
       "        vertical-align: top;\n",
       "    }\n",
       "\n",
       "    .dataframe thead th {\n",
       "        text-align: right;\n",
       "    }\n",
       "</style>\n",
       "<table border=\"1\" class=\"dataframe\">\n",
       "  <thead>\n",
       "    <tr style=\"text-align: right;\">\n",
       "      <th></th>\n",
       "      <th>name</th>\n",
       "      <th>population</th>\n",
       "    </tr>\n",
       "  </thead>\n",
       "  <tbody>\n",
       "    <tr>\n",
       "      <th>England</th>\n",
       "      <td>London</td>\n",
       "      <td>8615246</td>\n",
       "    </tr>\n",
       "    <tr>\n",
       "      <th>Germany</th>\n",
       "      <td>Berlin</td>\n",
       "      <td>3562166</td>\n",
       "    </tr>\n",
       "    <tr>\n",
       "      <th>Spain</th>\n",
       "      <td>Madrid</td>\n",
       "      <td>3165235</td>\n",
       "    </tr>\n",
       "    <tr>\n",
       "      <th>Italy</th>\n",
       "      <td>Rome</td>\n",
       "      <td>2874038</td>\n",
       "    </tr>\n",
       "    <tr>\n",
       "      <th>France</th>\n",
       "      <td>Paris</td>\n",
       "      <td>2273305</td>\n",
       "    </tr>\n",
       "    <tr>\n",
       "      <th>Austria</th>\n",
       "      <td>Vienna</td>\n",
       "      <td>1805681</td>\n",
       "    </tr>\n",
       "    <tr>\n",
       "      <th>Romania</th>\n",
       "      <td>Bucharest</td>\n",
       "      <td>1803425</td>\n",
       "    </tr>\n",
       "    <tr>\n",
       "      <th>Germany</th>\n",
       "      <td>Hamburg</td>\n",
       "      <td>1760433</td>\n",
       "    </tr>\n",
       "    <tr>\n",
       "      <th>Hungary</th>\n",
       "      <td>Budapest</td>\n",
       "      <td>1754000</td>\n",
       "    </tr>\n",
       "    <tr>\n",
       "      <th>Poland</th>\n",
       "      <td>Warsaw</td>\n",
       "      <td>1740119</td>\n",
       "    </tr>\n",
       "    <tr>\n",
       "      <th>Spain</th>\n",
       "      <td>Barcelona</td>\n",
       "      <td>1602386</td>\n",
       "    </tr>\n",
       "    <tr>\n",
       "      <th>Germany</th>\n",
       "      <td>Munich</td>\n",
       "      <td>1493900</td>\n",
       "    </tr>\n",
       "    <tr>\n",
       "      <th>Italy</th>\n",
       "      <td>Milan</td>\n",
       "      <td>1350680</td>\n",
       "    </tr>\n",
       "  </tbody>\n",
       "</table>\n",
       "</div>"
      ],
      "text/plain": [
       "              name  population\n",
       "England     London     8615246\n",
       "Germany     Berlin     3562166\n",
       "Spain       Madrid     3165235\n",
       "Italy         Rome     2874038\n",
       "France       Paris     2273305\n",
       "Austria     Vienna     1805681\n",
       "Romania  Bucharest     1803425\n",
       "Germany    Hamburg     1760433\n",
       "Hungary   Budapest     1754000\n",
       "Poland      Warsaw     1740119\n",
       "Spain    Barcelona     1602386\n",
       "Germany     Munich     1493900\n",
       "Italy        Milan     1350680"
      ]
     },
     "execution_count": 9,
     "metadata": {},
     "output_type": "execute_result"
    }
   ],
   "source": [
    "city_frame = pd.DataFrame(cities,\n",
    "                          columns=[\"name\", \"population\"],\n",
    "                          index=cities[\"country\"])\n",
    "city_frame"
   ]
  },
  {
   "cell_type": "markdown",
   "metadata": {
    "slideshow": {
     "slide_type": "slide"
    }
   },
   "source": [
    "### Действия над данными в DataFrame"
   ]
  },
  {
   "cell_type": "code",
   "execution_count": 10,
   "metadata": {
    "slideshow": {
     "slide_type": "fragment"
    }
   },
   "outputs": [
    {
     "name": "stdout",
     "output_type": "stream",
     "text": [
      "name          LondonBerlinMadridRomeParisViennaBucharestHamb...\n",
      "population                                             33800614\n",
      "dtype: object\n",
      "\n",
      "33800614\n",
      "\n",
      "England     8615246\n",
      "Germany    12177412\n",
      "Spain      15342647\n",
      "Italy      18216685\n",
      "France     20489990\n",
      "Austria    22295671\n",
      "Romania    24099096\n",
      "Germany    25859529\n",
      "Hungary    27613529\n",
      "Poland     29353648\n",
      "Spain      30956034\n",
      "Germany    32449934\n",
      "Italy      33800614\n",
      "Name: population, dtype: int64\n"
     ]
    }
   ],
   "source": [
    "print(city_frame.sum(), end='\\n\\n')\n",
    "\n",
    "print(city_frame[\"population\"].sum(), end='\\n\\n')\n",
    "\n",
    "x = city_frame[\"population\"].cumsum()\n",
    "print(x)"
   ]
  },
  {
   "cell_type": "code",
   "execution_count": 11,
   "metadata": {
    "slideshow": {
     "slide_type": "subslide"
    }
   },
   "outputs": [
    {
     "name": "stdout",
     "output_type": "stream",
     "text": [
      "              name  population  cum_population\n",
      "England     London     8615246         8615246\n",
      "Germany     Berlin     3562166        12177412\n",
      "Spain       Madrid     3165235        15342647\n",
      "Italy         Rome     2874038        18216685\n",
      "France       Paris     2273305        20489990\n",
      "Austria     Vienna     1805681        22295671\n",
      "Romania  Bucharest     1803425        24099096\n",
      "Germany    Hamburg     1760433        25859529\n",
      "Hungary   Budapest     1754000        27613529\n",
      "Poland      Warsaw     1740119        29353648\n",
      "Spain    Barcelona     1602386        30956034\n",
      "Germany     Munich     1493900        32449934\n",
      "Italy        Milan     1350680        33800614\n"
     ]
    }
   ],
   "source": [
    "city_frame[\"cum_population\"] = city_frame[\"population\"].cumsum()\n",
    "print(city_frame)"
   ]
  },
  {
   "cell_type": "markdown",
   "metadata": {
    "slideshow": {
     "slide_type": "slide"
    }
   },
   "source": [
    "### Доступ к элементам"
   ]
  },
  {
   "cell_type": "code",
   "execution_count": 12,
   "metadata": {
    "slideshow": {
     "slide_type": "fragment"
    }
   },
   "outputs": [
    {
     "name": "stdout",
     "output_type": "stream",
     "text": [
      "England    8615246\n",
      "Germany    3562166\n",
      "Spain      3165235\n",
      "Italy      2874038\n",
      "France     2273305\n",
      "Austria    1805681\n",
      "Romania    1803425\n",
      "Germany    1760433\n",
      "Hungary    1754000\n",
      "Poland     1740119\n",
      "Spain      1602386\n",
      "Germany    1493900\n",
      "Italy      1350680\n",
      "Name: population, dtype: int64\n"
     ]
    }
   ],
   "source": [
    "# dictionary-like way\n",
    "print(city_frame[\"population\"])"
   ]
  },
  {
   "cell_type": "code",
   "execution_count": 13,
   "metadata": {
    "slideshow": {
     "slide_type": "subslide"
    }
   },
   "outputs": [
    {
     "name": "stdout",
     "output_type": "stream",
     "text": [
      "England    8615246\n",
      "Germany    3562166\n",
      "Spain      3165235\n",
      "Italy      2874038\n",
      "France     2273305\n",
      "Austria    1805681\n",
      "Romania    1803425\n",
      "Germany    1760433\n",
      "Hungary    1754000\n",
      "Poland     1740119\n",
      "Spain      1602386\n",
      "Germany    1493900\n",
      "Italy      1350680\n",
      "Name: population, dtype: int64\n"
     ]
    }
   ],
   "source": [
    "# as an attribute\n",
    "print(city_frame.population)"
   ]
  },
  {
   "cell_type": "code",
   "execution_count": 14,
   "metadata": {
    "slideshow": {
     "slide_type": "subslide"
    }
   },
   "outputs": [
    {
     "data": {
      "text/html": [
       "<div>\n",
       "<style scoped>\n",
       "    .dataframe tbody tr th:only-of-type {\n",
       "        vertical-align: middle;\n",
       "    }\n",
       "\n",
       "    .dataframe tbody tr th {\n",
       "        vertical-align: top;\n",
       "    }\n",
       "\n",
       "    .dataframe thead th {\n",
       "        text-align: right;\n",
       "    }\n",
       "</style>\n",
       "<table border=\"1\" class=\"dataframe\">\n",
       "  <thead>\n",
       "    <tr style=\"text-align: right;\">\n",
       "      <th></th>\n",
       "      <th>name</th>\n",
       "      <th>population</th>\n",
       "      <th>cum_population</th>\n",
       "    </tr>\n",
       "  </thead>\n",
       "  <tbody>\n",
       "    <tr>\n",
       "      <th>Italy</th>\n",
       "      <td>Rome</td>\n",
       "      <td>2874038</td>\n",
       "      <td>18216685</td>\n",
       "    </tr>\n",
       "    <tr>\n",
       "      <th>Italy</th>\n",
       "      <td>Milan</td>\n",
       "      <td>1350680</td>\n",
       "      <td>33800614</td>\n",
       "    </tr>\n",
       "  </tbody>\n",
       "</table>\n",
       "</div>"
      ],
      "text/plain": [
       "        name  population  cum_population\n",
       "Italy   Rome     2874038        18216685\n",
       "Italy  Milan     1350680        33800614"
      ]
     },
     "execution_count": 14,
     "metadata": {},
     "output_type": "execute_result"
    }
   ],
   "source": [
    "# loc/iloc method\n",
    "city_frame.loc[\"Italy\"]"
   ]
  },
  {
   "cell_type": "markdown",
   "metadata": {
    "slideshow": {
     "slide_type": "slide"
    }
   },
   "source": [
    "### Изменение значений колонок"
   ]
  },
  {
   "cell_type": "code",
   "execution_count": 15,
   "metadata": {
    "slideshow": {
     "slide_type": "fragment"
    }
   },
   "outputs": [
    {
     "name": "stdout",
     "output_type": "stream",
     "text": [
      "              name  population  cum_population  area\n",
      "England     London     8615246         8615246  1572\n",
      "Germany     Berlin     3562166        12177412  1572\n",
      "Spain       Madrid     3165235        15342647  1572\n",
      "Italy         Rome     2874038        18216685  1572\n",
      "France       Paris     2273305        20489990  1572\n",
      "Austria     Vienna     1805681        22295671  1572\n",
      "Romania  Bucharest     1803425        24099096  1572\n",
      "Germany    Hamburg     1760433        25859529  1572\n",
      "Hungary   Budapest     1754000        27613529  1572\n",
      "Poland      Warsaw     1740119        29353648  1572\n",
      "Spain    Barcelona     1602386        30956034  1572\n",
      "Germany     Munich     1493900        32449934  1572\n",
      "Italy        Milan     1350680        33800614  1572\n"
     ]
    }
   ],
   "source": [
    "city_frame[\"area\"] = 1572\n",
    "print(city_frame)"
   ]
  },
  {
   "cell_type": "code",
   "execution_count": 16,
   "metadata": {
    "slideshow": {
     "slide_type": "subslide"
    }
   },
   "outputs": [
    {
     "name": "stdout",
     "output_type": "stream",
     "text": [
      "              name  population  cum_population       area\n",
      "England     London     8615246         8615246  1572000.0\n",
      "Germany     Berlin     3562166        12177412   891850.0\n",
      "Spain       Madrid     3165235        15342647   605770.0\n",
      "Italy         Rome     2874038        18216685  1285000.0\n",
      "France       Paris     2273305        20489990   105400.0\n",
      "Austria     Vienna     1805681        22295671   414600.0\n",
      "Romania  Bucharest     1803425        24099096   228000.0\n",
      "Germany    Hamburg     1760433        25859529   755000.0\n",
      "Hungary   Budapest     1754000        27613529   525200.0\n",
      "Poland      Warsaw     1740119        29353648   517000.0\n",
      "Spain    Barcelona     1602386        30956034   101900.0\n",
      "Germany     Munich     1493900        32449934   310400.0\n",
      "Italy        Milan     1350680        33800614   181800.0\n"
     ]
    }
   ],
   "source": [
    "# area in square km:\n",
    "area = [1572, 891.85, 605.77, 1285, \n",
    "        105.4, 414.6, 228, 755, \n",
    "        525.2, 517, 101.9, 310.4, \n",
    "        181.8]\n",
    "city_frame[\"area\"] = area\n",
    "city_frame[\"area\"] *= 1000\n",
    "print(city_frame)"
   ]
  },
  {
   "cell_type": "markdown",
   "metadata": {
    "slideshow": {
     "slide_type": "slide"
    }
   },
   "source": [
    "### Сортировка DataFrame"
   ]
  },
  {
   "cell_type": "code",
   "execution_count": 17,
   "metadata": {
    "slideshow": {
     "slide_type": "fragment"
    }
   },
   "outputs": [
    {
     "name": "stdout",
     "output_type": "stream",
     "text": [
      "              name  population  cum_population       area\n",
      "England     London     8615246         8615246  1572000.0\n",
      "Italy         Rome     2874038        18216685  1285000.0\n",
      "Germany     Berlin     3562166        12177412   891850.0\n",
      "Germany    Hamburg     1760433        25859529   755000.0\n",
      "Spain       Madrid     3165235        15342647   605770.0\n",
      "Hungary   Budapest     1754000        27613529   525200.0\n",
      "Poland      Warsaw     1740119        29353648   517000.0\n",
      "Austria     Vienna     1805681        22295671   414600.0\n",
      "Germany     Munich     1493900        32449934   310400.0\n",
      "Romania  Bucharest     1803425        24099096   228000.0\n",
      "Italy        Milan     1350680        33800614   181800.0\n",
      "France       Paris     2273305        20489990   105400.0\n",
      "Spain    Barcelona     1602386        30956034   101900.0\n"
     ]
    }
   ],
   "source": [
    "city_frame = city_frame.sort_values(by=\"area\", ascending=False)\n",
    "print(city_frame)"
   ]
  },
  {
   "cell_type": "markdown",
   "metadata": {
    "slideshow": {
     "slide_type": "slide"
    }
   },
   "source": [
    "### Визуализация содержимого DataFrame"
   ]
  },
  {
   "cell_type": "code",
   "execution_count": 18,
   "metadata": {
    "scrolled": true,
    "slideshow": {
     "slide_type": "fragment"
    }
   },
   "outputs": [
    {
     "data": {
      "text/plain": [
       "<matplotlib.axes._subplots.AxesSubplot at 0xec55790>"
      ]
     },
     "execution_count": 18,
     "metadata": {},
     "output_type": "execute_result"
    },
    {
     "data": {
      "image/png": "[encoded data removed]",
      "text/plain": [
       "<Figure size 432x288 with 1 Axes>"
      ]
     },
     "metadata": {},
     "output_type": "display_data"
    }
   ],
   "source": [
    "%matplotlib inline\n",
    "\n",
    "orig_city_frame = city_frame.drop(columns=['cum_population'])\n",
    "\n",
    "orig_city_frame.plot(xticks=range(len(orig_city_frame.index)),\n",
    "                     use_index=True, \n",
    "                     rot=90)"
   ]
  },
  {
   "cell_type": "code",
   "execution_count": null,
   "metadata": {},
   "outputs": [],
   "source": []
  }
 ],
 "metadata": {
  "kernelspec": {
   "display_name": "Python 3",
   "language": "python",
   "name": "python3"
  },
  "language_info": {
   "codemirror_mode": {
    "name": "ipython",
    "version": 3
   },
   "file_extension": ".py",
   "mimetype": "text/x-python",
   "name": "python",
   "nbconvert_exporter": "python",
   "pygments_lexer": "ipython3",
   "version": "3.6.6"
  }
 },
 "nbformat": 4,
 "nbformat_minor": 2
}
