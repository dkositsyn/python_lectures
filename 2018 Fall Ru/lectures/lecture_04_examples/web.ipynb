{
 "cells": [
  {
   "cell_type": "markdown",
   "metadata": {},
   "source": [
    "# Web"
   ]
  },
  {
   "cell_type": "markdown",
   "metadata": {},
   "source": [
    "## Запросы и парсинг HTML"
   ]
  },
  {
   "cell_type": "code",
   "execution_count": 1,
   "metadata": {},
   "outputs": [
    {
     "name": "stdout",
     "output_type": "stream",
     "text": [
      "200\n"
     ]
    }
   ],
   "source": [
    "from urllib.request import urlopen\n",
    "\n",
    "with urlopen('https://www.google.by') as connection:\n",
    "    data = connection.read()\n",
    "\n",
    "    real_url = connection.geturl()\n",
    "    connection_info = connection.info()\n",
    "    http_code = connection.getcode()\n",
    "\n",
    "    print(http_code)"
   ]
  },
  {
   "cell_type": "markdown",
   "metadata": {},
   "source": [
    "### Requests and Beautiful Soup"
   ]
  },
  {
   "cell_type": "code",
   "execution_count": 2,
   "metadata": {},
   "outputs": [
    {
     "data": {
      "text/html": [
       "<b>1.</b>  <a href=\"http://www.google.by/url?q=https://yandex.com/&amp;sa=U&amp;ved=0ahUKEwix1PztoNvdAhVSaFAKHe3wC40QFggQMAA&amp;usg=AOvVaw2dYHzsOAx2cx5NE3AbUu2k\"><b>Yandex</b></a>"
      ],
      "text/plain": [
       "<IPython.core.display.HTML object>"
      ]
     },
     "metadata": {},
     "output_type": "display_data"
    },
    {
     "data": {
      "text/html": [
       "<b>2.</b>  <a href=\"http://www.google.by/url?q=https://www.yandex.by/&amp;sa=U&amp;ved=0ahUKEwix1PztoNvdAhVSaFAKHe3wC40QFggaMAE&amp;usg=AOvVaw0MO_rPEc7RiTzcft7Ecy3F\">Яндекс</a>"
      ],
      "text/plain": [
       "<IPython.core.display.HTML object>"
      ]
     },
     "metadata": {},
     "output_type": "display_data"
    },
    {
     "data": {
      "text/html": [
       "<b>3.</b>  <a href=\"http://www.google.by/url?q=https://mail.yandex.by/&amp;sa=U&amp;ved=0ahUKEwix1PztoNvdAhVSaFAKHe3wC40QFggfMAI&amp;usg=AOvVaw33ai9JsrpOLYoBt1DQ7_ma\">Яндекс.Пошта — бясплатная і надзейная электронная пошта</a>"
      ],
      "text/plain": [
       "<IPython.core.display.HTML object>"
      ]
     },
     "metadata": {},
     "output_type": "display_data"
    },
    {
     "data": {
      "text/html": [
       "<b>4.</b>  <a href=\"http://www.google.by/url?q=https://twitter.com/yandex&amp;sa=U&amp;ved=0ahUKEwix1PztoNvdAhVSaFAKHe3wC40QFggkMAM&amp;usg=AOvVaw2IRqs0-OyJBGybzOzTEAO6\">Яндекс (@<b>yandex</b>) | Twitter</a>"
      ],
      "text/plain": [
       "<IPython.core.display.HTML object>"
      ]
     },
     "metadata": {},
     "output_type": "display_data"
    },
    {
     "data": {
      "text/html": [
       "<b>5.</b>  <a href=\"http://www.google.by/url?q=https://www.instagram.com/yandex/&amp;sa=U&amp;ved=0ahUKEwix1PztoNvdAhVSaFAKHe3wC40QFggqMAQ&amp;usg=AOvVaw3tkcNsiqzjB_NlaoNPCGqd\">Яндекс (@<b>yandex</b>) • Instagram photos and videos</a>"
      ],
      "text/plain": [
       "<IPython.core.display.HTML object>"
      ]
     },
     "metadata": {},
     "output_type": "display_data"
    },
    {
     "data": {
      "text/html": [
       "<b>6.</b>  <a href=\"http://www.google.by/url?q=https://ru.wikipedia.org/wiki/%25D0%25AF%25D0%25BD%25D0%25B4%25D0%25B5%25D0%25BA%25D1%2581&amp;sa=U&amp;ved=0ahUKEwix1PztoNvdAhVSaFAKHe3wC40QFggvMAU&amp;usg=AOvVaw0kynEBmxU2XrwhoUF3VxBn\">Яндекс — Википедия</a>"
      ],
      "text/plain": [
       "<IPython.core.display.HTML object>"
      ]
     },
     "metadata": {},
     "output_type": "display_data"
    },
    {
     "data": {
      "text/html": [
       "<b>7.</b>  <a href=\"http://www.google.by/url?q=https://en.wikipedia.org/wiki/Yandex&amp;sa=U&amp;ved=0ahUKEwix1PztoNvdAhVSaFAKHe3wC40QFgg1MAY&amp;usg=AOvVaw2xaY1OnAhEOyCbWIJJ0tUt\"><b>Yandex</b> - Wikipedia</a>"
      ],
      "text/plain": [
       "<IPython.core.display.HTML object>"
      ]
     },
     "metadata": {},
     "output_type": "display_data"
    },
    {
     "data": {
      "text/html": [
       "<b>8.</b>  <a href=\"http://www.google.by/url?q=https://habr.com/company/yandex/&amp;sa=U&amp;ved=0ahUKEwix1PztoNvdAhVSaFAKHe3wC40QFgg7MAc&amp;usg=AOvVaw39wlFy0nNbfIYWx3a0EeJN\">Блог компании Яндекс / Хабр</a>"
      ],
      "text/plain": [
       "<IPython.core.display.HTML object>"
      ]
     },
     "metadata": {},
     "output_type": "display_data"
    },
    {
     "data": {
      "text/html": [
       "<b>9.</b>  <a href=\"http://www.google.by/url?q=https://www.linkedin.com/company/yandex&amp;sa=U&amp;ved=0ahUKEwix1PztoNvdAhVSaFAKHe3wC40QFghAMAg&amp;usg=AOvVaw21qsj8Y0lHyQcn_CXvZTXv\"><b>Yandex</b> | LinkedIn</a>"
      ],
      "text/plain": [
       "<IPython.core.display.HTML object>"
      ]
     },
     "metadata": {},
     "output_type": "display_data"
    },
    {
     "data": {
      "text/html": [
       "<b>10.</b>  <a href=\"http://www.google.by/url?q=https://play.google.com/store/apps/details%3Fid%3Dcom.yandex.browser%26hl%3Den_US&amp;sa=U&amp;ved=0ahUKEwix1PztoNvdAhVSaFAKHe3wC40QFghGMAk&amp;usg=AOvVaw2vfEs4RDFmveJ2gz6aWvZh\"><b>Yandex</b> Browser with Protect - Apps on Google Play</a>"
      ],
      "text/plain": [
       "<IPython.core.display.HTML object>"
      ]
     },
     "metadata": {},
     "output_type": "display_data"
    }
   ],
   "source": [
    "import requests  # для запросов\n",
    "\n",
    "import urllib.parse  # для encode/decode url\n",
    "\n",
    "from bs4 import BeautifulSoup  # для парсинга HTML\n",
    "\n",
    "from IPython.core.display import display, HTML  # IPython-отображение HTMl страниц\n",
    "\n",
    "\n",
    "def google(query):\n",
    "    template = 'https://www.google.by/search?{}'\n",
    "    url = template.format(urllib.parse.urlencode({'q' : query}))\n",
    "    \n",
    "    # объект Request, содержащий информацию о запросе:\n",
    "    #   успешность выполнения, код, заголовки\n",
    "    req = requests.get(url, timeout=3.0)  # не стоит забывать про timeout\n",
    "    assert req.status_code == 200, 'request failed'\n",
    "    \n",
    "    soup = BeautifulSoup(req.text, \"html5lib\")\n",
    "    \n",
    "    for i, li in enumerate(soup.findAll('h3', attrs={'class': 'r'})):\n",
    "        link = li.find('a')\n",
    "        if link:\n",
    "            link['href'] = 'http://www.google.by' + link['href']\n",
    "            link = '<b>{}.</b>  {}'.format(i + 1, link)\n",
    "            display(HTML(str(link)))\n",
    "\n",
    "google('Yandex')"
   ]
  },
  {
   "cell_type": "markdown",
   "metadata": {},
   "source": [
    "В IPython можно также отображать картинки"
   ]
  },
  {
   "cell_type": "code",
   "execution_count": null,
   "metadata": {},
   "outputs": [],
   "source": [
    "from IPython.display import Image\n",
    "Image('http://www.openbookproject.net/tutorials/getdown/css/images/lesson4/HTMLDOMTree.png')"
   ]
  },
  {
   "cell_type": "markdown",
   "metadata": {},
   "source": [
    "### API с использованием get запросов"
   ]
  },
  {
   "cell_type": "code",
   "execution_count": 3,
   "metadata": {},
   "outputs": [
    {
     "name": "stdout",
     "output_type": "stream",
     "text": [
      "[{'pos': 'noun',\n",
      "  'text': 'API',\n",
      "  'tr': [{'mean': [{'text': 'application programming interface'}],\n",
      "          'pos': 'noun',\n",
      "          'syn': [{'pos': 'noun', 'text': 'интерфейс API'},\n",
      "                  {'pos': 'noun',\n",
      "                   'text': 'интерфейс прикладного программирования'},\n",
      "                  {'pos': 'noun', 'text': 'программный интерфейс приложения'}],\n",
      "          'text': 'прикладной программный интерфейс'}],\n",
      "  'ts': 'ˈæpɪ'}]\n"
     ]
    }
   ],
   "source": [
    "import pprint \n",
    "import requests\n",
    "import json\n",
    "\n",
    "\n",
    "DICTIONARY_API = 'https://dictionary.yandex.net/api/v1/dicservice.json/lookup'\n",
    "YNDX_TMP_KEY = 'dict.1.1.20171114T131015Z.59d0570f825aeb6d.aa00fdbd5ee643a6cb790c0963c0946115ceef55'\n",
    "\n",
    "query = 'API'\n",
    "params = {'key' : YNDX_TMP_KEY, 'lang' : 'en-ru', 'text' : query}\n",
    "    \n",
    "req = requests.get(DICTIONARY_API, params=params)\n",
    "pprint.pprint(json.loads(req.text)['def'])"
   ]
  },
  {
   "cell_type": "markdown",
   "metadata": {},
   "source": [
    "### API с использованием post запросов"
   ]
  },
  {
   "cell_type": "code",
   "execution_count": 4,
   "metadata": {},
   "outputs": [],
   "source": [
    "import requests\n",
    "import json\n",
    "\n",
    "def get_doublegis(source, dest):\n",
    "    url = 'https://catalog.api.2gis.ru/carrouting/4.0.0/moscow?key=rutnpt3272'\n",
    "    payload = { \"locale\": \"en\", \"point_a_name\": \"Start\", \"point_b_name\": \"Finish\", \"points\": [{\n",
    "                \"type\": \"pedo\",\n",
    "                \"x\": source[1],\n",
    "                \"y\": source[0]\n",
    "            }, {\n",
    "                \"type\": \"pedo\",\n",
    "                \"x\": dest[1],\n",
    "                \"y\": dest[0]\n",
    "            }\n",
    "        ], \"type\": \"online\", \"region_id\": \"32\"\n",
    "    }\n",
    "\n",
    "    data = requests.post(url, data=json.dumps(payload))\n",
    "    route = json.loads(data.text)['result'][0]\n",
    "    length = route['total_distance']\n",
    "    eta = route['total_duration']\n",
    "\n",
    "    return length, eta / 60"
   ]
  },
  {
   "cell_type": "code",
   "execution_count": 5,
   "metadata": {},
   "outputs": [
    {
     "name": "stdout",
     "output_type": "stream",
     "text": [
      "(22902, 51.56666666666667)\n"
     ]
    }
   ],
   "source": [
    "source, dest = (55.734242, 37.587424), (55.798485, 37.39912)\n",
    "print(get_doublegis(source, dest))"
   ]
  },
  {
   "cell_type": "markdown",
   "metadata": {},
   "source": [
    "### LXML и Requests"
   ]
  },
  {
   "cell_type": "code",
   "execution_count": null,
   "metadata": {
    "scrolled": true
   },
   "outputs": [],
   "source": [
    "import requests\n",
    "from lxml import etree\n",
    "from io import StringIO, BytesIO\n",
    "\n",
    "data = requests.get('http://bash.im').text\n",
    "\n",
    "parser = etree.HTMLParser()\n",
    "doc = etree.parse(StringIO(data), parser)\n",
    "\n",
    "# поиск с помощью XPATH\n",
    "article_list = doc.findall(\"//div[@class='quote']\")  # doc.iter('div')\n",
    "\n",
    "for ell in article_list:\n",
    "    content = ell.find(\"div[@class='text']\")\n",
    "    \n",
    "    print(content.tag)\n",
    "    print(content.attrib)\n",
    "    print(content.text)\n",
    "    \n",
    "    # print(etree.tostring(content))\n",
    "\n",
    "    break"
   ]
  },
  {
   "cell_type": "markdown",
   "metadata": {},
   "source": [
    "## Сокеты"
   ]
  },
  {
   "cell_type": "code",
   "execution_count": null,
   "metadata": {},
   "outputs": [],
   "source": [
    "import socket\n",
    "\n",
    "# Create a TCP/IP socket\n",
    "sock = socket.socket(socket.AF_INET, socket.SOCK_STREAM)"
   ]
  },
  {
   "cell_type": "code",
   "execution_count": null,
   "metadata": {},
   "outputs": [],
   "source": [
    "server_address = ('localhost', 56789)\n",
    "sock.bind(server_address)"
   ]
  },
  {
   "cell_type": "code",
   "execution_count": null,
   "metadata": {},
   "outputs": [],
   "source": [
    "sock.listen(1)"
   ]
  },
  {
   "cell_type": "code",
   "execution_count": null,
   "metadata": {},
   "outputs": [],
   "source": [
    "def echo(sock):\n",
    "    # tells we are in server mode\n",
    "    sock.listen(1)\n",
    "\n",
    "    while True:\n",
    "        # Wait for a connection\n",
    "        connection, client_address = sock.accept()\n",
    "        try:\n",
    "            print('connection from', client_address)\n",
    "\n",
    "            # Receive the data in small chunks and retransmit it\n",
    "            while True:\n",
    "                data = connection.recv(16)\n",
    "                print('received \"%s\"' % data)\n",
    "                if data:\n",
    "                    print('sending data back to the client')\n",
    "                    connection.sendall(data)\n",
    "                else:\n",
    "                    print('no more data from', client_address)\n",
    "                    break\n",
    "\n",
    "        finally:\n",
    "            # Clean up the connection\n",
    "            connection.close()"
   ]
  },
  {
   "cell_type": "code",
   "execution_count": null,
   "metadata": {},
   "outputs": [],
   "source": [
    "# server example\n",
    "import socket\n",
    "\n",
    "sock = socket.socket(socket.AF_INET, socket.SOCK_STREAM)\n",
    "server_address = ('localhost', 56789)\n",
    "sock.bind(server_address)\n",
    "echo(sock)"
   ]
  },
  {
   "cell_type": "code",
   "execution_count": null,
   "metadata": {},
   "outputs": [],
   "source": [
    "# client example\n",
    "import socket\n",
    "\n",
    "# Create a TCP/IP socket\n",
    "sock = socket.socket(socket.AF_INET, socket.SOCK_STREAM)\n",
    "\n",
    "# Connect the socket to the port where the server is listening\n",
    "server_address = ('localhost', 56789)\n",
    "print('connecting to %s port %s' % server_address)\n",
    "sock.connect(server_address)\n",
    "\n",
    "try:\n",
    "    # Send data\n",
    "    message = 'This is a message. It will be repeated.'\n",
    "    print('sending \"%s\"' % message)\n",
    "    sock.sendall(message.encode('utf-8'))\n",
    "\n",
    "    # Look for the response\n",
    "    amount_received = 0\n",
    "    amount_expected = len(message)\n",
    "    \n",
    "    while amount_received < amount_expected:\n",
    "        data = sock.recv(16)\n",
    "        amount_received += len(data)\n",
    "        print('received \"%s\"' % data)\n",
    "\n",
    "finally:\n",
    "    print('closing socket')\n",
    "    sock.close()"
   ]
  },
  {
   "cell_type": "markdown",
   "metadata": {},
   "source": [
    "## Web frameworks"
   ]
  },
  {
   "cell_type": "markdown",
   "metadata": {},
   "source": [
    "### Flask"
   ]
  },
  {
   "cell_type": "markdown",
   "metadata": {},
   "source": [
    "Очень простое приложение"
   ]
  },
  {
   "cell_type": "code",
   "execution_count": null,
   "metadata": {},
   "outputs": [],
   "source": [
    "import json \n",
    "\n",
    "from flask import Flask\n",
    "from flask import Response, request\n",
    "\n",
    "app = Flask(__name__)\n",
    "\n",
    "\n",
    "@app.route('/hello',methods=['GET'])\n",
    "def hello(): \n",
    "    return json.dumps({'msg' : 'hello my friend'}), 200\n",
    "\n",
    "\n",
    "app.run(host='localhost', port=5000, use_reloader=False, threaded=True)"
   ]
  },
  {
   "cell_type": "markdown",
   "metadata": {},
   "source": [
    "Приложение поинтереснее"
   ]
  },
  {
   "cell_type": "code",
   "execution_count": null,
   "metadata": {},
   "outputs": [],
   "source": [
    "import json \n",
    "\n",
    "from flask import Flask\n",
    "from flask import Response, request\n",
    "\n",
    "\n",
    "app = Flask(__name__)\n",
    "\n",
    "\n",
    "@app.route('/hello', methods=['GET'])\n",
    "def hello(): \n",
    "    return json.dumps({'msg': 'hello my friend'}), 200\n",
    "\n",
    "\n",
    "@app.route('/privet/<name>', methods=['GET'])\n",
    "def hello2(name): \n",
    "    return json.dumps({'msg': 'hello my friend, {}'.format(name)}), 200\n",
    "\n",
    "\n",
    "def _parse_bool(val): \n",
    "    return val.lower() == 'true'\n",
    "\n",
    "    \n",
    "@app.route('/hi/<name>/<value>', methods=['GET'])\n",
    "def hi_common(name, value): \n",
    "    should_answer = request.args.get('need_answer', 'false')\n",
    "    should_answer = _parse_bool(should_answer)\n",
    "\n",
    "    if should_answer: \n",
    "        return 'hi my friend!', 200\n",
    "    else: \n",
    "        return 'no answer :(', 404\n",
    "\n",
    "\n",
    "@app.route('/hi/tanya/<value>', methods=['GET'])\n",
    "def hi(value): \n",
    "    return 'love you!', 200\n",
    "\n",
    "\n",
    "app.run(host='localhost', port=10000, use_reloader=False, threaded=True)"
   ]
  },
  {
   "cell_type": "markdown",
   "metadata": {},
   "source": [
    "### Jinja"
   ]
  },
  {
   "cell_type": "markdown",
   "metadata": {},
   "source": [
    "Удобная генерация html из шаблонов"
   ]
  },
  {
   "cell_type": "code",
   "execution_count": null,
   "metadata": {},
   "outputs": [],
   "source": [
    "from jinja2 import Template\n",
    "t = Template(\"Hello {{ something }}!\")\n",
    "t.render(something=\"World\")"
   ]
  },
  {
   "cell_type": "code",
   "execution_count": null,
   "metadata": {},
   "outputs": [],
   "source": [
    "t = Template(\"My favorite numbers: {% for n in range(1,10) %}<b>{{n}}</b> \"\"{% endfor %}\")\n",
    "t.render()"
   ]
  },
  {
   "cell_type": "markdown",
   "metadata": {},
   "source": [
    "### Использование Jinja и Flask"
   ]
  },
  {
   "cell_type": "code",
   "execution_count": null,
   "metadata": {},
   "outputs": [],
   "source": [
    "from flask import Flask, render_template\n",
    "app = Flask(__name__)\n",
    "\n",
    "\n",
    "@app.route(\"/\")\n",
    "def template_test():\n",
    "    return render_template('template.html', my_string=\"Wheeeee!\", my_list=[0, 1, 2, 3, 4, 5])\n",
    "\n",
    "\n",
    "if __name__ == '__main__':\n",
    "    app.run(debug=True)"
   ]
  },
  {
   "cell_type": "markdown",
   "metadata": {},
   "source": [
    "Сохраните шаблон ниже в требуемый файл"
   ]
  },
  {
   "cell_type": "markdown",
   "metadata": {},
   "source": [
    "```\n",
    "<!DOCTYPE html>\n",
    "<html>\n",
    "  <head>\n",
    "    <title>Flask Template Example</title>\n",
    "    <meta name=\"viewport\" content=\"width=device-width, initial-scale=1.0\">\n",
    "    <link href=\"http://netdna.bootstrapcdn.com/bootstrap/3.0.0/css/bootstrap.min.css\" rel=\"stylesheet\" media=\"screen\">\n",
    "    <style type=\"text/css\">\n",
    "      .container {\n",
    "        max-width: 500px;\n",
    "        padding-top: 100px;\n",
    "      }\n",
    "    </style>\n",
    "  </head>\n",
    "  <body>\n",
    "    <div class=\"container\">\n",
    "      <p>My string: {{my_string}}</p>\n",
    "      <p>Value from the list: {{my_list[3]}}</p>\n",
    "      <p>Loop through the list:</p>\n",
    "      <ul>\n",
    "        {% for n in my_list %}\n",
    "        <li>{{n}}</li>\n",
    "        {% endfor %}\n",
    "      </ul>\n",
    "    </div>\n",
    "    <script src=\"http://code.jquery.com/jquery-1.10.2.min.js\"></script>\n",
    "    <script src=\"http://netdna.bootstrapcdn.com/bootstrap/3.0.0/js/bootstrap.min.js\"></script>\n",
    "  </body>\n",
    "</html>\n",
    "```"
   ]
  },
  {
   "cell_type": "code",
   "execution_count": null,
   "metadata": {},
   "outputs": [],
   "source": []
  }
 ],
 "metadata": {
  "kernelspec": {
   "display_name": "Python 3",
   "language": "python",
   "name": "python3"
  },
  "language_info": {
   "codemirror_mode": {
    "name": "ipython",
    "version": 3
   },
   "file_extension": ".py",
   "mimetype": "text/x-python",
   "name": "python",
   "nbconvert_exporter": "python",
   "pygments_lexer": "ipython3",
   "version": "3.6.6"
  }
 },
 "nbformat": 4,
 "nbformat_minor": 2
}
